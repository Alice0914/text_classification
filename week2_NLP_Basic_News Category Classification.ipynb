{
 "cells": [
  {
   "cell_type": "markdown",
   "metadata": {},
   "source": [
    "### **NLP Basics**"
   ]
  },
  {
   "cell_type": "markdown",
   "metadata": {},
   "source": [
    "##### **NLP Basic Components:**\n",
    "- **Lemmatization**: Reduces words to their base or dictionary form. Unlike stemming, lemmatization considers the context and transforms the word to its meaningful base form.\n",
    "    - Running → Run\n",
    "    - Easily → Easy\n",
    "    - Wolves → Wolf\n",
    "- **Stemming**: Stemming is the process of reducing words to their root or base form by removing suffixes, which simply removes or alters the endings of the words to get to what it assumes is the root form.\n",
    "    - Running → Run\n",
    "    - Easily → Easili\n",
    "    - Wolves → Wolv\n",
    "- **Stopwords**: Commonly used words in a language (like \"the\", \"is\", \"in\") which are often removed during preprocessing to reduce noise and focus on more meaningful words.\n",
    "- **Token**: A basic unit of text, typically a word or punctuation mark, that has been parsed out from a larger body of text for analysis.\n",
    "- **Tokenizer**: A tool for splitting text into tokens. It can be rule-based or learned from data. Different types of tokenizers (like wordpiece, unigram, byte pair encoding) are used depending on the language and the application.\n",
    "\n"
   ]
  },
  {
   "cell_type": "markdown",
   "metadata": {},
   "source": [
    "1. *Whitespace Tokenizer*: Splits text based on whitespace "
   ]
  },
  {
   "cell_type": "code",
   "execution_count": 6,
   "metadata": {},
   "outputs": [
    {
     "name": "stdout",
     "output_type": "stream",
     "text": [
      "['OpenAI', 'develops', 'artificial', 'general', 'intelligence', '(AGI).']\n"
     ]
    }
   ],
   "source": [
    "text = \"OpenAI develops artificial general intelligence (AGI).\"\n",
    "tokens = text.split()\n",
    "print(tokens)"
   ]
  },
  {
   "cell_type": "markdown",
   "metadata": {},
   "source": [
    "2. *Word Tokenizerr*: Splits text into words"
   ]
  },
  {
   "cell_type": "code",
   "execution_count": 7,
   "metadata": {},
   "outputs": [
    {
     "name": "stdout",
     "output_type": "stream",
     "text": [
      "['OpenAI', 'develops', 'artificial', 'general', 'intelligence', '(', 'AGI', ')', '.']\n"
     ]
    },
    {
     "name": "stderr",
     "output_type": "stream",
     "text": [
      "[nltk_data] Downloading package punkt to\n",
      "[nltk_data]     C:\\Users\\alice\\AppData\\Roaming\\nltk_data...\n",
      "[nltk_data]   Package punkt is already up-to-date!\n"
     ]
    }
   ],
   "source": [
    "import nltk\n",
    "from nltk.tokenize import word_tokenize\n",
    "nltk.download('punkt')\n",
    "\n",
    "text = \"OpenAI develops artificial general intelligence (AGI).\"\n",
    "tokens = word_tokenize(text)\n",
    "print(tokens)"
   ]
  },
  {
   "cell_type": "markdown",
   "metadata": {},
   "source": [
    "3. *Sentence Tokenizer*: Breaks text into sentences"
   ]
  },
  {
   "cell_type": "code",
   "execution_count": 8,
   "metadata": {},
   "outputs": [
    {
     "name": "stdout",
     "output_type": "stream",
     "text": [
      "['Hello World.', 'Natural Language Processing is fun.']\n"
     ]
    },
    {
     "name": "stderr",
     "output_type": "stream",
     "text": [
      "[nltk_data] Downloading package punkt to\n",
      "[nltk_data]     C:\\Users\\alice\\AppData\\Roaming\\nltk_data...\n",
      "[nltk_data]   Package punkt is already up-to-date!\n"
     ]
    }
   ],
   "source": [
    "from nltk.tokenize import sent_tokenize\n",
    "nltk.download('punkt')\n",
    "\n",
    "text = \"Hello World. Natural Language Processing is fun.\"\n",
    "tokens = sent_tokenize(text)\n",
    "print(tokens)"
   ]
  },
  {
   "cell_type": "markdown",
   "metadata": {},
   "source": [
    "4. *Regex Tokenizer*: Uses regular expressions to capture tokens"
   ]
  },
  {
   "cell_type": "code",
   "execution_count": 9,
   "metadata": {},
   "outputs": [
    {
     "name": "stdout",
     "output_type": "stream",
     "text": [
      "['Email', 'me', 'at', 'email', '@example.com', 'or', 'visit', 'http', '://example.com.']\n"
     ]
    },
    {
     "name": "stderr",
     "output_type": "stream",
     "text": [
      "<>:4: SyntaxWarning: invalid escape sequence '\\w'\n",
      "<>:4: SyntaxWarning: invalid escape sequence '\\w'\n",
      "C:\\Users\\alice\\AppData\\Local\\Temp\\ipykernel_22048\\3446799332.py:4: SyntaxWarning: invalid escape sequence '\\w'\n",
      "  tokenizer = RegexpTokenizer('\\w+|\\$[\\d\\.]+|\\S+')\n"
     ]
    }
   ],
   "source": [
    "from nltk.tokenize import RegexpTokenizer\n",
    "\n",
    "text = \"Email me at email@example.com or visit http://example.com.\"\n",
    "tokenizer = RegexpTokenizer('\\w+|\\$[\\d\\.]+|\\S+')\n",
    "tokens = tokenizer.tokenize(text)\n",
    "print(tokens)"
   ]
  },
  {
   "cell_type": "markdown",
   "metadata": {},
   "source": [
    "5. *Subword Tokenizer*: Breaks words into smaller units such as WordPiece, Unigram, Byte Pair Encoding (BPE)\n",
    "    - WordPiece\n",
    "        - WordPiece is a method for dividing text into subword units. \n",
    "        - For example, given the word \"playing,\" a WordPiece tokenizer can split it into \"play\" and \"##ing.\" \n",
    "        - The \"##\" indicates that the part is a fragment of the original word, signaling its segmentation. \n",
    "        - This tokenizer is utilized in models like BERT to efficiently encode text, proving particularly effective for languages like English.\n",
    "    - Unigram Tokenizer\n",
    "        - The Unigram tokenizer finds the optimal segmentation based on the probability of each token. \n",
    "        - For instance, the word \"tasteful\" could be divided into \"taste\" and \"##ful.\" \n",
    "        - If \"taste\" and \"##ful\" have high probabilities in the token dictionary, the Unigram tokenizer would select this segmentation. \n",
    "        - This tokenizer is used in the SentencePiece library and is applied in various models, including Google's T5 (Text-to-Text Transfer Transformer).\n",
    "    - Byte-Pair Encoding (BPE)\n",
    "        - Byte-Pair Encoding (BPE) was introduced in Neural Machine Translation of Rare Words with Subword Units (Sennrich et al., 2015).\n",
    "        - https://arxiv.org/abs/1508.07909\n",
    "        - BPE tokenizes text by merging the most frequently occurring pair of characters. \n",
    "        - Considering the word \"easiest,\" a BPE tokenizer initially splits it into characters such as \"e\", \"a\", \"s\", \"i\", \"e\", \"s\", \"t.\" \n",
    "        - Then, it merges the most common pair of characters, \"ea,\" into a single token, resulting in \"ea\", \"s\", \"i\", \"e\", \"s\", \"t.\" \n",
    "        - BPE is used in OpenAI's GPT series models and is powerful in tokenizing across various languages."
   ]
  },
  {
   "cell_type": "markdown",
   "metadata": {},
   "source": [
    "- Types of **Label Encoding**:\n",
    "    - Label Encoding: This technique involves converting each unique label into a numeric code. For example, in a classification task with three classes ['Dog', 'Cat', 'Bird'], label encoding might assign 0 to Dog, 1 to Cat, and 2 to Bird. This method is straightforward but implies an ordinal relationship between the categories, which might not be appropriate for nominal data (where no such order exists).\n",
    "\n",
    "    - One-Hot Encoding: This technique converts categorical labels into a binary vector representation where only the position corresponding to the class label is 1, and all other positions are 0. For the same example, the one-hot encoded labels would be [1, 0, 0] for Dog, [0, 1, 0] for Cat, and [0, 0, 1] for Bird. One-hot encoding removes the ordinal implication of label encoding but increases the dimensionality of the label space."
   ]
  },
  {
   "cell_type": "markdown",
   "metadata": {},
   "source": [
    "- **Vectorization** : Bag of Words or TF-IDF\n",
    "    - **BOW (Bag of Words)**: It counts how many times each word appears in a text, ignoring the order of words.\n",
    "    - **TF-IDF (Term Frequency-Inverse Document Frequency)**: TF-IDF: It measures how important a word is within a document, relative to a collection of documents, by considering both the frequency of the word in the document and its rarity across all documents.\n",
    "    - For input features, especially text, vectorization processes like converting text to numeric features through methods like Bag of Words or TF-IDF are performed independently of label encoding. Label encoding is not a prerequisite for these steps.\n",
    "    - For target labels in classification tasks, label encoding is a necessary step to ensure the labels are in a numeric format, but it's not about \"before vectorization\" in the same sense as with input features. It's more about preparing your labels correctly for model training."
   ]
  },
  {
   "cell_type": "markdown",
   "metadata": {},
   "source": []
  },
  {
   "cell_type": "code",
   "execution_count": 17,
   "metadata": {},
   "outputs": [
    {
     "data": {
      "text/plain": [
       "['i', 'have', 'a', 'new', 'gp', '##u', '!']"
      ]
     },
     "execution_count": 17,
     "metadata": {},
     "output_type": "execute_result"
    }
   ],
   "source": [
    "from transformers import BertTokenizer\n",
    "\n",
    "tokenizer = BertTokenizer.from_pretrained(\"google-bert/bert-base-uncased\")\n",
    "tokenizer.tokenize(\"I have a new GPU!\")"
   ]
  },
  {
   "cell_type": "markdown",
   "metadata": {},
   "source": [
    "- **Text Vectorization (TF-IDF or Bag of Words)**: Transforming text into a numerical format so that it can be processed by algorithms. "
   ]
  },
  {
   "cell_type": "markdown",
   "metadata": {},
   "source": [
    "1. BOA (Bag of Words): A BoW representation would create a vocabulary of all unique words and then count their occurrences in each sentence.\n",
    "    - \"The cat sat on the mat.\", \"The dog sat on the log.\" \n",
    "    - [1, 1, 1, 1, 1, 1, 0, 0] - The first sentence.\n",
    "    - [1, 0, 1, 1, 1, 0, 1, 1] - The second sentence."
   ]
  },
  {
   "cell_type": "code",
   "execution_count": 22,
   "metadata": {},
   "outputs": [
    {
     "name": "stdout",
     "output_type": "stream",
     "text": [
      "[[1 0 0 1 1 1 2]\n",
      " [0 1 1 0 1 1 2]]\n",
      "['cat' 'dog' 'log' 'mat' 'on' 'sat' 'the']\n"
     ]
    }
   ],
   "source": [
    "from sklearn.feature_extraction.text import CountVectorizer\n",
    "\n",
    "sentences = [\"The cat sat on the mat.\", \"The dog sat on the log.\"]\n",
    "vectorizer = CountVectorizer()\n",
    "BoW_features = vectorizer.fit_transform(sentences)\n",
    "\n",
    "print(BoW_features.toarray())\n",
    "print(vectorizer.get_feature_names_out())"
   ]
  },
  {
   "cell_type": "markdown",
   "metadata": {},
   "source": [
    "2. TF-IDF (Term Frequency-Inverse Document Frequency): It's a numerical statistic intended to reflect how important a word is to a document in a collection or corpus. \n",
    "    - Words like \"the\" would have a lower TF-IDF score since they appear in many documents, while words unique to a document (e.g., \"cat\", \"dog\", \"mat\", \"log\") would have higher scores."
   ]
  },
  {
   "cell_type": "code",
   "execution_count": 23,
   "metadata": {},
   "outputs": [
    {
     "name": "stdout",
     "output_type": "stream",
     "text": [
      "[[0.44554752 0.         0.         0.44554752 0.31701073 0.31701073\n",
      "  0.63402146]\n",
      " [0.         0.44554752 0.44554752 0.         0.31701073 0.31701073\n",
      "  0.63402146]]\n",
      "['cat' 'dog' 'log' 'mat' 'on' 'sat' 'the']\n"
     ]
    }
   ],
   "source": [
    "from sklearn.feature_extraction.text import TfidfVectorizer\n",
    "\n",
    "sentences = [\"The cat sat on the mat.\", \"The dog sat on the log.\"]\n",
    "vectorizer = TfidfVectorizer()\n",
    "tfidf_features = vectorizer.fit_transform(sentences)\n",
    "\n",
    "print(tfidf_features.toarray())\n",
    "print(vectorizer.get_feature_names_out())"
   ]
  },
  {
   "cell_type": "markdown",
   "metadata": {},
   "source": [
    "### News Category Classification"
   ]
  },
  {
   "cell_type": "code",
   "execution_count": 66,
   "metadata": {},
   "outputs": [],
   "source": [
    "import pandas as pd\n",
    "import numpy as np\n",
    "import pandas as pd\n",
    "import numpy as np\n",
    "from bs4 import BeautifulSoup\n",
    "import regex\n",
    "import re\n",
    "from nltk import word_tokenize, sent_tokenize\n",
    "from sklearn.model_selection import train_test_split\n",
    "from sklearn.naive_bayes import MultinomialNB\n",
    "from sklearn.feature_extraction.text import CountVectorizer\n",
    "from sklearn.pipeline import make_pipeline\n",
    "from sklearn.metrics import accuracy_score, classification_report, confusion_matrix\n",
    "from sklearn.model_selection import cross_val_score\n",
    "from sklearn.preprocessing import StandardScaler\n",
    "from sklearn.linear_model import LogisticRegression\n",
    "import matplotlib.pyplot as plt\n",
    "import seaborn as sns\n",
    "from sklearn.ensemble import RandomForestClassifier"
   ]
  },
  {
   "cell_type": "code",
   "execution_count": 67,
   "metadata": {},
   "outputs": [
    {
     "data": {
      "text/plain": [
       "(199706, 4)"
      ]
     },
     "execution_count": 67,
     "metadata": {},
     "output_type": "execute_result"
    }
   ],
   "source": [
    "df=pd.read_csv('english_news_dataset.csv')\n",
    "df.shape"
   ]
  },
  {
   "cell_type": "code",
   "execution_count": 68,
   "metadata": {},
   "outputs": [
    {
     "data": {
      "text/html": [
       "<div>\n",
       "<style scoped>\n",
       "    .dataframe tbody tr th:only-of-type {\n",
       "        vertical-align: middle;\n",
       "    }\n",
       "\n",
       "    .dataframe tbody tr th {\n",
       "        vertical-align: top;\n",
       "    }\n",
       "\n",
       "    .dataframe thead th {\n",
       "        text-align: right;\n",
       "    }\n",
       "</style>\n",
       "<table border=\"1\" class=\"dataframe\">\n",
       "  <thead>\n",
       "    <tr style=\"text-align: right;\">\n",
       "      <th></th>\n",
       "      <th>Headline</th>\n",
       "      <th>Content</th>\n",
       "      <th>News Categories</th>\n",
       "      <th>Date</th>\n",
       "    </tr>\n",
       "  </thead>\n",
       "  <tbody>\n",
       "    <tr>\n",
       "      <th>0</th>\n",
       "      <td>Congress leader Baljinder Singh shot dead at h...</td>\n",
       "      <td>Congress leader Baljinder Singh was shot dead ...</td>\n",
       "      <td>['national']</td>\n",
       "      <td>19-09-2023</td>\n",
       "    </tr>\n",
       "    <tr>\n",
       "      <th>1</th>\n",
       "      <td>17-year-old girl preparing for NEET dies by su...</td>\n",
       "      <td>Another NEET aspirant died by suicide in Rajas...</td>\n",
       "      <td>['national']</td>\n",
       "      <td>19-09-2023</td>\n",
       "    </tr>\n",
       "    <tr>\n",
       "      <th>2</th>\n",
       "      <td>Hampers to welcome MPs in new Parliament tomor...</td>\n",
       "      <td>In order to mark the first-ever working day of...</td>\n",
       "      <td>['national']</td>\n",
       "      <td>19-09-2023</td>\n",
       "    </tr>\n",
       "    <tr>\n",
       "      <th>3</th>\n",
       "      <td>Only 10% women lawmakers in RS, while only 14%...</td>\n",
       "      <td>Congress President Mallikarjun Kharge, while s...</td>\n",
       "      <td>['national']</td>\n",
       "      <td>19-09-2023</td>\n",
       "    </tr>\n",
       "    <tr>\n",
       "      <th>4</th>\n",
       "      <td>Ganesh temple decorated with notes, coins wort...</td>\n",
       "      <td>The Sri Sathya Ganapathi Temple in Bengaluru a...</td>\n",
       "      <td>['national']</td>\n",
       "      <td>19-09-2023</td>\n",
       "    </tr>\n",
       "  </tbody>\n",
       "</table>\n",
       "</div>"
      ],
      "text/plain": [
       "                                            Headline  \\\n",
       "0  Congress leader Baljinder Singh shot dead at h...   \n",
       "1  17-year-old girl preparing for NEET dies by su...   \n",
       "2  Hampers to welcome MPs in new Parliament tomor...   \n",
       "3  Only 10% women lawmakers in RS, while only 14%...   \n",
       "4  Ganesh temple decorated with notes, coins wort...   \n",
       "\n",
       "                                             Content News Categories  \\\n",
       "0  Congress leader Baljinder Singh was shot dead ...    ['national']   \n",
       "1  Another NEET aspirant died by suicide in Rajas...    ['national']   \n",
       "2  In order to mark the first-ever working day of...    ['national']   \n",
       "3  Congress President Mallikarjun Kharge, while s...    ['national']   \n",
       "4  The Sri Sathya Ganapathi Temple in Bengaluru a...    ['national']   \n",
       "\n",
       "         Date  \n",
       "0  19-09-2023  \n",
       "1  19-09-2023  \n",
       "2  19-09-2023  \n",
       "3  19-09-2023  \n",
       "4  19-09-2023  "
      ]
     },
     "execution_count": 68,
     "metadata": {},
     "output_type": "execute_result"
    }
   ],
   "source": [
    "df.head()"
   ]
  },
  {
   "cell_type": "code",
   "execution_count": 69,
   "metadata": {},
   "outputs": [
    {
     "data": {
      "text/plain": [
       "News Categories\n",
       "['entertainment']                                                                     11021\n",
       "['miscellaneous']                                                                     10545\n",
       "['science']                                                                            8901\n",
       "['national']                                                                           7552\n",
       "['politics']                                                                           7473\n",
       "                                                                                      ...  \n",
       "['all', 'sports']                                                                         1\n",
       "['all', 'sports', 'Asian_Games_2022']                                                     1\n",
       "['Feel_Good_Stories', 'hatke', 'national', 'Health___Fitness']                            1\n",
       "['Feel_Good_Stories', 'politics', 'education', 'business', 'startup', 'Lifestyle']        1\n",
       "['politics', 'education', 'world']                                                        1\n",
       "Name: count, Length: 534, dtype: int64"
      ]
     },
     "execution_count": 69,
     "metadata": {},
     "output_type": "execute_result"
    }
   ],
   "source": [
    "class_counts = df['News Categories'].value_counts()\n",
    "class_counts"
   ]
  },
  {
   "cell_type": "code",
   "execution_count": 70,
   "metadata": {},
   "outputs": [],
   "source": [
    "#Category Grouped\n",
    "from sklearn.model_selection import StratifiedKFold, cross_val_score\n",
    "threshold = 5\n",
    "\n",
    "class_counts = df['News Categories'].value_counts()\n",
    "rare_classes = class_counts[class_counts < threshold].index\n",
    "\n",
    "df['category_grouped'] = df['News Categories'].apply(lambda x: 'Other' if x in rare_classes else x)"
   ]
  },
  {
   "cell_type": "code",
   "execution_count": 55,
   "metadata": {},
   "outputs": [
    {
     "name": "stdout",
     "output_type": "stream",
     "text": [
      "<class 'pandas.core.frame.DataFrame'>\n",
      "RangeIndex: 199706 entries, 0 to 199705\n",
      "Data columns (total 5 columns):\n",
      " #   Column            Non-Null Count   Dtype \n",
      "---  ------            --------------   ----- \n",
      " 0   Headline          199706 non-null  object\n",
      " 1   Content           199706 non-null  object\n",
      " 2   News Categories   199706 non-null  object\n",
      " 3   Date              199706 non-null  object\n",
      " 4   category_grouped  199706 non-null  object\n",
      "dtypes: object(5)\n",
      "memory usage: 7.6+ MB\n"
     ]
    }
   ],
   "source": [
    "df.info()"
   ]
  },
  {
   "cell_type": "code",
   "execution_count": 72,
   "metadata": {},
   "outputs": [],
   "source": [
    "df = df.drop_duplicates(keep = 'first')"
   ]
  },
  {
   "cell_type": "code",
   "execution_count": 76,
   "metadata": {},
   "outputs": [
    {
     "name": "stdout",
     "output_type": "stream",
     "text": [
      "<class 'pandas.core.frame.DataFrame'>\n",
      "Index: 164254 entries, 0 to 199705\n",
      "Data columns (total 5 columns):\n",
      " #   Column            Non-Null Count   Dtype \n",
      "---  ------            --------------   ----- \n",
      " 0   Headline          164254 non-null  object\n",
      " 1   Content           164254 non-null  object\n",
      " 2   News Categories   164254 non-null  object\n",
      " 3   Date              164254 non-null  object\n",
      " 4   category_grouped  164254 non-null  object\n",
      "dtypes: object(5)\n",
      "memory usage: 7.5+ MB\n"
     ]
    }
   ],
   "source": [
    "df.info()"
   ]
  },
  {
   "cell_type": "code",
   "execution_count": 84,
   "metadata": {},
   "outputs": [
    {
     "data": {
      "text/plain": [
       "array([\"['entertainment', 'national']\", \"['politics', 'national']\",\n",
       "       \"['world', 'national']\", \"['national', 'technology']\"],\n",
       "      dtype=object)"
      ]
     },
     "execution_count": 84,
     "metadata": {},
     "output_type": "execute_result"
    }
   ],
   "source": [
    "df[\"News Categories\"].unique()[1:5]"
   ]
  },
  {
   "cell_type": "code",
   "execution_count": 85,
   "metadata": {},
   "outputs": [
    {
     "name": "stderr",
     "output_type": "stream",
     "text": [
      "C:\\Users\\alice\\AppData\\Local\\Temp\\ipykernel_22048\\734950233.py:8: FutureWarning: \n",
      "\n",
      "Passing `palette` without assigning `hue` is deprecated and will be removed in v0.14.0. Assign the `x` variable to `hue` and set `legend=False` for the same effect.\n",
      "\n",
      "  sns.countplot(x='News Categories', data=df_top, palette='viridis')\n"
     ]
    },
    {
     "data": {
      "image/png": "[encoded data removed]",
      "text/plain": [
       "<Figure size 640x480 with 1 Axes>"
      ]
     },
     "metadata": {},
     "output_type": "display_data"
    }
   ],
   "source": [
    "import seaborn as sns\n",
    "import matplotlib.pyplot as plt\n",
    "top_n = 5\n",
    "top_categories = df['News Categories'].value_counts().nlargest(top_n).index\n",
    "\n",
    "df_top = df[df['News Categories'].isin(top_categories)]\n",
    "\n",
    "sns.countplot(x='News Categories', data=df_top, palette='viridis')\n",
    "plt.title(f'Top {top_n} News Categories')\n",
    "plt.xlabel('Categories')\n",
    "plt.xticks(rotation=45)\n",
    "plt.ylabel('Count')\n",
    "plt.show();"
   ]
  },
  {
   "cell_type": "markdown",
   "metadata": {},
   "source": [
    "#### Text preperation - Preprocessing steps"
   ]
  },
  {
   "cell_type": "code",
   "execution_count": 102,
   "metadata": {},
   "outputs": [],
   "source": [
    "import string\n",
    "import re\n",
    "import regex\n",
    "from nltk.corpus import stopwords\n",
    "import nltk\n",
    "from abbreviations import abbreviation_dict"
   ]
  },
  {
   "cell_type": "code",
   "execution_count": 104,
   "metadata": {},
   "outputs": [
    {
     "name": "stderr",
     "output_type": "stream",
     "text": [
      "[nltk_data] Downloading package stopwords to\n",
      "[nltk_data]     C:\\Users\\alice\\AppData\\Roaming\\nltk_data...\n",
      "[nltk_data]   Package stopwords is already up-to-date!\n"
     ]
    }
   ],
   "source": [
    "#created a function to remove all punctuation characters\n",
    "def remove_punc(text):\n",
    "    punc=string.punctuation #contains all punctuation characters\n",
    "    return ''.join([char for char in text if char not in punc])\n",
    "\n",
    "df[\"News Categories\"]=df[\"News Categories\"].apply(remove_punc)\n",
    "\n",
    "#1- lower case\n",
    "df[\"Content\"]=df[\"Content\"].str.lower()\n",
    "\n",
    "#2- Remove html tags\n",
    "def has_html_tags(text):\n",
    "    pattern = re.compile('<.*?>') # Regular expression to match HTML tags\n",
    "    matches = pattern.findall(text) # Search for he pattern in the text\n",
    "    return bool(matches) # Return True if any HTML tags are found, False otherwise\n",
    "df['has_html_tags'] = df['Content'].apply(has_html_tags)\n",
    "\n",
    "#3- Remove emojies\n",
    "def has_emoji(text):\n",
    "    emoji_pattern = regex.compile(r'\\p{Emoji}', flags=regex.UNICODE)\n",
    "    return bool(emoji_pattern.search(text))\n",
    "has_emojis =  df['Content'].apply(has_emoji)\n",
    "\n",
    "#4- Remove urls\n",
    "import re\n",
    "def remove_url(text):\n",
    "    pattern=re.compile(r'https?://\\S+|www\\.S+')\n",
    "    return pattern.sub(r'',text)\n",
    "df[\"Content\"]=df[\"Content\"].apply(remove_url)\n",
    "\n",
    "#5- Remove all punctuation characters\n",
    "df[\"Content\"]=df[\"Content\"].apply(remove_punc)\n",
    "\n",
    "#6- Remove stopwords\n",
    "nltk.download('stopwords')\n",
    "stop_words = set(stopwords.words('english'))\n",
    "def remove_stopwords(text):\n",
    "    words = text.split()\n",
    "    filtered_words = [word for word in words if word not in stop_words]\n",
    "    return \" \".join(filtered_words)\n",
    "df[\"Content\"]=df[\"Content\"].apply(lambda x: remove_stopwords(x))\n",
    "\n",
    "#7- Remove abbreviations\n",
    "def replace_abbreviations(text, abbreviation_dict):\n",
    "    for abbreviation, full_form in abbreviation_dict.items():\n",
    "        text = text.replace(abbreviation, full_form)\n",
    "    return text\n",
    "df['Content'] = df['Content'].apply(lambda x: replace_abbreviations(x,abbreviation_dict))"
   ]
  },
  {
   "cell_type": "code",
   "execution_count": 106,
   "metadata": {},
   "outputs": [
    {
     "name": "stderr",
     "output_type": "stream",
     "text": [
      "[nltk_data] Downloading package punkt to\n",
      "[nltk_data]     C:\\Users\\alice\\AppData\\Roaming\\nltk_data...\n",
      "[nltk_data]   Package punkt is already up-to-date!\n"
     ]
    }
   ],
   "source": [
    "import nltk\n",
    "nltk.download('punkt')\n",
    "from nltk import word_tokenize, sent_tokenize"
   ]
  },
  {
   "cell_type": "code",
   "execution_count": 107,
   "metadata": {},
   "outputs": [
    {
     "data": {
      "text/html": [
       "<div>\n",
       "<style scoped>\n",
       "    .dataframe tbody tr th:only-of-type {\n",
       "        vertical-align: middle;\n",
       "    }\n",
       "\n",
       "    .dataframe tbody tr th {\n",
       "        vertical-align: top;\n",
       "    }\n",
       "\n",
       "    .dataframe thead th {\n",
       "        text-align: right;\n",
       "    }\n",
       "</style>\n",
       "<table border=\"1\" class=\"dataframe\">\n",
       "  <thead>\n",
       "    <tr style=\"text-align: right;\">\n",
       "      <th></th>\n",
       "      <th>Headline</th>\n",
       "      <th>Content</th>\n",
       "      <th>News Categories</th>\n",
       "      <th>Date</th>\n",
       "      <th>category_grouped</th>\n",
       "      <th>has_html_tags</th>\n",
       "    </tr>\n",
       "  </thead>\n",
       "  <tbody>\n",
       "    <tr>\n",
       "      <th>0</th>\n",
       "      <td>Congress leader Baljinder Singh shot dead at h...</td>\n",
       "      <td>congress leader baljinder singh shot dead hous...</td>\n",
       "      <td>national</td>\n",
       "      <td>19-09-2023</td>\n",
       "      <td>['national']</td>\n",
       "      <td>False</td>\n",
       "    </tr>\n",
       "    <tr>\n",
       "      <th>1</th>\n",
       "      <td>17-year-old girl preparing for NEET dies by su...</td>\n",
       "      <td>another neet aspirant died suicide rajasthans ...</td>\n",
       "      <td>national</td>\n",
       "      <td>19-09-2023</td>\n",
       "      <td>['national']</td>\n",
       "      <td>False</td>\n",
       "    </tr>\n",
       "    <tr>\n",
       "      <th>2</th>\n",
       "      <td>Hampers to welcome MPs in new Parliament tomor...</td>\n",
       "      <td>order mark firstever working day new parliamen...</td>\n",
       "      <td>national</td>\n",
       "      <td>19-09-2023</td>\n",
       "      <td>['national']</td>\n",
       "      <td>False</td>\n",
       "    </tr>\n",
       "    <tr>\n",
       "      <th>3</th>\n",
       "      <td>Only 10% women lawmakers in RS, while only 14%...</td>\n",
       "      <td>congress president mallikarjun kharge speaking...</td>\n",
       "      <td>national</td>\n",
       "      <td>19-09-2023</td>\n",
       "      <td>['national']</td>\n",
       "      <td>False</td>\n",
       "    </tr>\n",
       "    <tr>\n",
       "      <th>4</th>\n",
       "      <td>Ganesh temple decorated with notes, coins wort...</td>\n",
       "      <td>sri sathya ganapathi temple bengaluru adorned ...</td>\n",
       "      <td>national</td>\n",
       "      <td>19-09-2023</td>\n",
       "      <td>['national']</td>\n",
       "      <td>False</td>\n",
       "    </tr>\n",
       "  </tbody>\n",
       "</table>\n",
       "</div>"
      ],
      "text/plain": [
       "                                            Headline  \\\n",
       "0  Congress leader Baljinder Singh shot dead at h...   \n",
       "1  17-year-old girl preparing for NEET dies by su...   \n",
       "2  Hampers to welcome MPs in new Parliament tomor...   \n",
       "3  Only 10% women lawmakers in RS, while only 14%...   \n",
       "4  Ganesh temple decorated with notes, coins wort...   \n",
       "\n",
       "                                             Content News Categories  \\\n",
       "0  congress leader baljinder singh shot dead hous...        national   \n",
       "1  another neet aspirant died suicide rajasthans ...        national   \n",
       "2  order mark firstever working day new parliamen...        national   \n",
       "3  congress president mallikarjun kharge speaking...        national   \n",
       "4  sri sathya ganapathi temple bengaluru adorned ...        national   \n",
       "\n",
       "         Date category_grouped  has_html_tags  \n",
       "0  19-09-2023     ['national']          False  \n",
       "1  19-09-2023     ['national']          False  \n",
       "2  19-09-2023     ['national']          False  \n",
       "3  19-09-2023     ['national']          False  \n",
       "4  19-09-2023     ['national']          False  "
      ]
     },
     "execution_count": 107,
     "metadata": {},
     "output_type": "execute_result"
    }
   ],
   "source": [
    "# Tokeinization\n",
    "def tokenize_text(text): #cleaning, standardizing spacing - consistent space characters between words and sentences.\n",
    "    # Tokenize each sentence into words\n",
    "    words_list = [word_tokenize(sentence) for sentence in sent_tokenize(text)] #tokenize\n",
    "    words = ' '.join(' '.join(words) for words in words_list) #detokenize \n",
    "    return words\n",
    "\n",
    "df[\"Content\"] = df[\"Content\"].apply(tokenize_text)\n",
    "df.head()"
   ]
  },
  {
   "cell_type": "code",
   "execution_count": 110,
   "metadata": {},
   "outputs": [],
   "source": [
    "#Split data\n",
    "from imblearn.over_sampling import SMOTE\n",
    "from sklearn.model_selection import train_test_split"
   ]
  },
  {
   "cell_type": "markdown",
   "metadata": {},
   "source": [
    "### Label Encoding"
   ]
  },
  {
   "cell_type": "code",
   "execution_count": 112,
   "metadata": {},
   "outputs": [],
   "source": [
    "import pandas as pd\n",
    "from sklearn.model_selection import StratifiedKFold, cross_val_score\n",
    "from sklearn.naive_bayes import MultinomialNB\n",
    "from sklearn.feature_extraction.text import CountVectorizer\n",
    "from sklearn.pipeline import Pipeline\n",
    "from sklearn.preprocessing import LabelEncoder\n",
    "from sklearn.utils.class_weight import compute_class_weight\n",
    "\n",
    "X = df['Content']\n",
    "y = df['category_grouped']\n",
    "\n",
    "# Encoding labels\n",
    "lb_encoder = LabelEncoder()\n",
    "y_encoded = lb_encoder.fit_transform(y)\n",
    "#address class imbalance by assigning different weights to classes\n",
    "class_weights_train = compute_class_weight('balanced', classes=np.unique(y_encoded), y=y_encoded)"
   ]
  },
  {
   "cell_type": "code",
   "execution_count": 115,
   "metadata": {},
   "outputs": [
    {
     "data": {
      "text/plain": [
       "array([11.38281358,  7.42357408,  2.56755194,  5.59810504])"
      ]
     },
     "execution_count": 115,
     "metadata": {},
     "output_type": "execute_result"
    }
   ],
   "source": [
    "class_weights_train[1:5]"
   ]
  },
  {
   "cell_type": "code",
   "execution_count": 116,
   "metadata": {},
   "outputs": [
    {
     "data": {
      "text/plain": [
       "0    congress leader baljinder singh shot dead hous...\n",
       "1    another neet aspirant died suicide rajasthans ...\n",
       "2    order mark firstever working day new parliamen...\n",
       "3    congress president mallikarjun kharge speaking...\n",
       "4    sri sathya ganapathi temple bengaluru adorned ...\n",
       "Name: Content, dtype: object"
      ]
     },
     "execution_count": 116,
     "metadata": {},
     "output_type": "execute_result"
    }
   ],
   "source": [
    "X.head()"
   ]
  },
  {
   "cell_type": "markdown",
   "metadata": {},
   "source": [
    "### Split training and testing dataset"
   ]
  },
  {
   "cell_type": "code",
   "execution_count": 117,
   "metadata": {},
   "outputs": [],
   "source": [
    "from sklearn.model_selection import train_test_split\n",
    "\n",
    "# Split the data into training and testing sets\n",
    "X_train, X_test, y_train, y_test = train_test_split(X, y_encoded, test_size=0.2, random_state=42)"
   ]
  },
  {
   "cell_type": "markdown",
   "metadata": {},
   "source": [
    "### Modeling - Multinomial Naive Bayes with BOW"
   ]
  },
  {
   "cell_type": "code",
   "execution_count": 119,
   "metadata": {},
   "outputs": [
    {
     "name": "stdout",
     "output_type": "stream",
     "text": [
      "MultinomialNB with Bag of Words accuracy: 0.874\n",
      "Classification Report:\n",
      "               precision    recall  f1-score   support\n",
      "\n",
      "           0       0.00      0.00      0.00        16\n",
      "           1       0.00      0.00      0.00         6\n",
      "           2       1.00      1.00      1.00         8\n",
      "           3       1.00      0.78      0.88        32\n",
      "           4       1.00      1.00      1.00        17\n",
      "           5       0.00      0.00      0.00         4\n",
      "           7       1.00      0.62      0.77         8\n",
      "           8       1.00      1.00      1.00         7\n",
      "           9       1.00      0.75      0.86         4\n",
      "          10       0.00      0.00      0.00         2\n",
      "          12       1.00      1.00      1.00        15\n",
      "          13       0.00      0.00      0.00         6\n",
      "          14       1.00      1.00      1.00         2\n",
      "          15       1.00      1.00      1.00         4\n",
      "          16       1.00      1.00      1.00         3\n",
      "          17       1.00      1.00      1.00         5\n",
      "          18       1.00      0.50      0.67         4\n",
      "          19       0.00      0.00      0.00         1\n",
      "          20       1.00      0.50      0.67         2\n",
      "          21       1.00      1.00      1.00         7\n",
      "          22       1.00      1.00      1.00         1\n",
      "          23       0.91      1.00      0.95        10\n",
      "          24       1.00      0.50      0.67         2\n",
      "          25       1.00      1.00      1.00         3\n",
      "          26       0.00      0.00      0.00         1\n",
      "          27       0.00      0.00      0.00         1\n",
      "          28       1.00      1.00      1.00        13\n",
      "          30       1.00      1.00      1.00         8\n",
      "          31       1.00      0.40      0.57         5\n",
      "          32       1.00      1.00      1.00         5\n",
      "          33       0.00      0.00      0.00         1\n",
      "          34       1.00      1.00      1.00         4\n",
      "          35       1.00      1.00      1.00         8\n",
      "          36       0.00      0.00      0.00         1\n",
      "          39       0.00      0.00      0.00         1\n",
      "          40       1.00      1.00      1.00         1\n",
      "          42       1.00      1.00      1.00         7\n",
      "          43       1.00      1.00      1.00         1\n",
      "          44       1.00      1.00      1.00         6\n",
      "          45       1.00      1.00      1.00         1\n",
      "          46       1.00      1.00      1.00        28\n",
      "          47       0.00      0.00      0.00         2\n",
      "          48       1.00      0.53      0.70        30\n",
      "          49       1.00      1.00      1.00        13\n",
      "          50       0.00      0.00      0.00         3\n",
      "          53       1.00      0.75      0.86         4\n",
      "          54       1.00      1.00      1.00         4\n",
      "          55       1.00      1.00      1.00         6\n",
      "          56       1.00      1.00      1.00         1\n",
      "          57       1.00      1.00      1.00         5\n",
      "          58       0.00      0.00      0.00         5\n",
      "          59       0.00      0.00      0.00         4\n",
      "          60       1.00      1.00      1.00        38\n",
      "          61       1.00      1.00      1.00         1\n",
      "          62       0.00      0.00      0.00         2\n",
      "          63       1.00      0.33      0.50         6\n",
      "          64       1.00      1.00      1.00        14\n",
      "          65       0.00      0.00      0.00         4\n",
      "          66       0.00      0.00      0.00         1\n",
      "          67       1.00      0.08      0.14        26\n",
      "          68       1.00      1.00      1.00         4\n",
      "          69       1.00      0.87      0.93       126\n",
      "          70       1.00      0.78      0.87        49\n",
      "          71       1.00      1.00      1.00         4\n",
      "          72       0.81      0.98      0.89       734\n",
      "          73       1.00      0.12      0.21        17\n",
      "          74       1.00      1.00      1.00         2\n",
      "          76       1.00      1.00      1.00         1\n",
      "          78       0.00      0.00      0.00         2\n",
      "          80       0.00      0.00      0.00         2\n",
      "          81       0.00      0.00      0.00         1\n",
      "          83       0.89      0.09      0.17       187\n",
      "          84       0.00      0.00      0.00         1\n",
      "          85       1.00      1.00      1.00         7\n",
      "          87       0.00      0.00      0.00         1\n",
      "          88       0.00      0.00      0.00         5\n",
      "          89       1.00      1.00      1.00         6\n",
      "          91       1.00      0.91      0.95        44\n",
      "          92       1.00      1.00      1.00         4\n",
      "          93       1.00      1.00      1.00         9\n",
      "          94       1.00      1.00      1.00        39\n",
      "          95       1.00      0.98      0.99       121\n",
      "          96       1.00      1.00      1.00        11\n",
      "          97       1.00      0.95      0.98       165\n",
      "          98       0.97      1.00      0.98      1269\n",
      "          99       1.00      1.00      1.00        12\n",
      "         100       0.00      0.00      0.00         5\n",
      "         101       0.98      0.99      0.99       131\n",
      "         102       1.00      1.00      1.00         8\n",
      "         103       1.00      1.00      1.00         5\n",
      "         104       1.00      1.00      1.00        14\n",
      "         105       1.00      1.00      1.00        12\n",
      "         106       1.00      1.00      1.00        83\n",
      "         107       1.00      1.00      1.00        11\n",
      "         108       1.00      1.00      1.00        11\n",
      "         109       1.00      1.00      1.00       307\n",
      "         110       0.00      0.00      0.00         2\n",
      "         111       1.00      1.00      1.00        11\n",
      "         112       1.00      1.00      1.00         6\n",
      "         113       1.00      1.00      1.00         9\n",
      "         114       1.00      0.97      0.99       226\n",
      "         115       1.00      0.87      0.93        15\n",
      "         116       1.00      0.97      0.98        32\n",
      "         117       0.00      0.00      0.00         3\n",
      "         118       0.00      0.00      0.00         5\n",
      "         119       1.00      0.62      0.77         8\n",
      "         120       1.00      1.00      1.00         5\n",
      "         121       0.00      0.00      0.00         1\n",
      "         122       0.00      0.00      0.00         5\n",
      "         123       0.00      0.00      0.00         2\n",
      "         124       0.00      0.00      0.00         1\n",
      "         125       0.00      0.00      0.00         1\n",
      "         126       1.00      0.42      0.59        19\n",
      "         127       1.00      1.00      1.00        59\n",
      "         128       1.00      1.00      1.00         1\n",
      "         129       1.00      1.00      1.00         3\n",
      "         130       1.00      1.00      1.00         5\n",
      "         131       0.00      0.00      0.00         6\n",
      "         132       1.00      1.00      1.00        51\n",
      "         133       1.00      0.34      0.50       179\n",
      "         134       1.00      1.00      1.00         9\n",
      "         135       1.00      1.00      1.00        11\n",
      "         136       1.00      0.67      0.80         3\n",
      "         137       0.00      0.00      0.00         3\n",
      "         139       0.00      0.00      0.00         1\n",
      "         140       1.00      1.00      1.00         1\n",
      "         141       1.00      0.40      0.57         5\n",
      "         142       0.00      0.00      0.00         1\n",
      "         143       1.00      0.30      0.46        10\n",
      "         144       1.00      1.00      1.00        13\n",
      "         145       0.00      0.00      0.00         2\n",
      "         146       1.00      0.43      0.60        14\n",
      "         147       1.00      1.00      1.00        18\n",
      "         148       0.00      0.00      0.00         7\n",
      "         149       0.00      0.00      0.00         1\n",
      "         150       1.00      1.00      1.00        70\n",
      "         151       0.00      0.00      0.00         1\n",
      "         152       1.00      1.00      1.00         6\n",
      "         153       0.87      0.87      0.87       596\n",
      "         154       1.00      0.67      0.80        18\n",
      "         155       0.96      0.86      0.91       397\n",
      "         156       1.00      1.00      1.00         2\n",
      "         157       0.92      0.89      0.90       423\n",
      "         158       1.00      0.98      0.99       166\n",
      "         159       0.78      0.93      0.85      1264\n",
      "         160       0.00      0.00      0.00         2\n",
      "         161       0.88      0.82      0.85        28\n",
      "         162       0.00      0.00      0.00         4\n",
      "         163       1.00      0.43      0.60         7\n",
      "         164       0.00      0.00      0.00         1\n",
      "         166       0.00      0.00      0.00         2\n",
      "         167       1.00      0.77      0.87        13\n",
      "         168       1.00      0.92      0.96        25\n",
      "         169       1.00      1.00      1.00         5\n",
      "         170       1.00      1.00      1.00         7\n",
      "         171       1.00      0.98      0.99        52\n",
      "         172       1.00      1.00      1.00         6\n",
      "         173       1.00      1.00      1.00         4\n",
      "         174       0.00      0.00      0.00         2\n",
      "         175       1.00      0.40      0.57         5\n",
      "         176       1.00      1.00      1.00         3\n",
      "         177       1.00      1.00      1.00         3\n",
      "         178       1.00      1.00      1.00         1\n",
      "         179       1.00      0.75      0.86         4\n",
      "         180       0.00      0.00      0.00         6\n",
      "         181       0.97      0.97      0.97      1078\n",
      "         182       1.00      1.00      1.00         1\n",
      "         183       1.00      1.00      1.00         7\n",
      "         184       0.00      0.00      0.00         2\n",
      "         185       1.00      1.00      1.00        10\n",
      "         186       1.00      1.00      1.00         1\n",
      "         187       1.00      1.00      1.00        18\n",
      "         188       1.00      1.00      1.00         8\n",
      "         189       1.00      1.00      1.00         7\n",
      "         190       0.00      0.00      0.00         2\n",
      "         191       1.00      1.00      1.00         3\n",
      "         193       0.00      0.00      0.00         1\n",
      "         194       1.00      1.00      1.00        20\n",
      "         195       1.00      0.88      0.93        64\n",
      "         196       0.90      0.93      0.92       790\n",
      "         197       1.00      1.00      1.00         6\n",
      "         198       1.00      0.83      0.90        23\n",
      "         199       0.00      0.00      0.00         1\n",
      "         200       0.99      1.00      0.99      1339\n",
      "         201       1.00      0.20      0.33         5\n",
      "         202       0.90      0.28      0.42       134\n",
      "         204       1.00      1.00      1.00         8\n",
      "         205       0.00      0.00      0.00         1\n",
      "         206       0.00      0.00      0.00         1\n",
      "         207       1.00      0.50      0.67         4\n",
      "         208       1.00      0.50      0.67        18\n",
      "         209       0.00      0.00      0.00         5\n",
      "         210       0.87      0.96      0.91      2033\n",
      "         211       1.00      0.99      0.99       623\n",
      "         213       1.00      1.00      1.00         6\n",
      "         215       1.00      1.00      1.00        16\n",
      "         216       1.00      1.00      1.00         9\n",
      "         217       1.00      1.00      1.00         2\n",
      "         218       1.00      1.00      1.00         1\n",
      "         219       0.00      0.00      0.00         2\n",
      "         220       1.00      1.00      1.00         5\n",
      "         221       1.00      0.17      0.29         6\n",
      "         222       0.00      0.00      0.00         1\n",
      "         223       1.00      1.00      1.00        21\n",
      "         224       0.00      0.00      0.00         3\n",
      "         226       1.00      1.00      1.00         2\n",
      "         227       0.00      0.00      0.00         4\n",
      "         229       0.00      0.00      0.00         1\n",
      "         230       1.00      0.44      0.62         9\n",
      "         231       1.00      1.00      1.00        10\n",
      "         232       1.00      1.00      1.00         2\n",
      "         233       1.00      0.18      0.31        38\n",
      "         234       0.00      0.00      0.00         1\n",
      "         235       1.00      1.00      1.00         5\n",
      "         236       0.00      0.00      0.00         1\n",
      "         237       1.00      1.00      1.00        15\n",
      "         238       0.00      0.00      0.00         4\n",
      "         239       0.00      0.00      0.00        19\n",
      "         240       0.00      0.00      0.00         4\n",
      "         241       1.00      0.98      0.99        51\n",
      "         242       0.00      0.00      0.00         2\n",
      "         243       0.00      0.00      0.00         4\n",
      "         244       1.00      1.00      1.00         1\n",
      "         245       0.00      0.00      0.00         2\n",
      "         247       0.00      0.00      0.00        14\n",
      "         248       0.00      0.00      0.00         2\n",
      "         249       1.00      1.00      1.00         4\n",
      "         250       1.00      0.75      0.86        20\n",
      "         251       0.00      0.00      0.00         4\n",
      "         252       1.00      0.11      0.20         9\n",
      "         253       1.00      0.33      0.50         3\n",
      "         254       1.00      0.33      0.50         3\n",
      "         255       1.00      0.67      0.80         6\n",
      "         256       0.00      0.00      0.00         5\n",
      "         258       1.00      1.00      1.00        22\n",
      "         259       1.00      1.00      1.00         9\n",
      "         260       1.00      0.09      0.16        23\n",
      "         261       1.00      1.00      1.00        10\n",
      "         262       0.00      0.00      0.00         1\n",
      "         263       1.00      1.00      1.00         2\n",
      "         264       1.00      0.25      0.40         4\n",
      "         265       1.00      0.48      0.65        65\n",
      "         267       1.00      0.50      0.67         2\n",
      "         268       1.00      1.00      1.00         5\n",
      "         269       0.00      0.00      0.00         2\n",
      "         270       1.00      0.43      0.60         7\n",
      "         271       0.99      1.00      0.99        73\n",
      "         272       0.00      0.00      0.00         1\n",
      "         273       1.00      1.00      1.00         2\n",
      "         274       0.00      0.00      0.00         1\n",
      "         275       1.00      0.67      0.80         3\n",
      "         276       0.93      0.87      0.90      1900\n",
      "         277       1.00      1.00      1.00         2\n",
      "         278       0.93      0.95      0.94       417\n",
      "         279       0.00      0.00      0.00         1\n",
      "         280       1.00      1.00      1.00        34\n",
      "         281       1.00      1.00      1.00         3\n",
      "         282       0.94      0.62      0.75       106\n",
      "         283       0.95      0.99      0.97       827\n",
      "         284       0.63      0.79      0.70      1335\n",
      "         285       0.00      0.00      0.00         1\n",
      "         286       1.00      0.67      0.80         3\n",
      "         287       1.00      0.17      0.29         6\n",
      "         288       0.00      0.00      0.00        12\n",
      "         289       0.00      0.00      0.00         3\n",
      "         290       0.00      0.00      0.00         5\n",
      "         291       0.00      0.00      0.00         3\n",
      "         292       0.00      0.00      0.00         4\n",
      "         293       1.00      0.45      0.62        11\n",
      "         294       1.00      1.00      1.00        11\n",
      "         295       1.00      1.00      1.00         1\n",
      "         296       0.00      0.00      0.00         1\n",
      "         297       0.00      0.00      0.00         3\n",
      "         298       1.00      0.92      0.96        61\n",
      "         299       0.00      0.00      0.00         1\n",
      "         300       0.00      0.00      0.00         3\n",
      "         301       1.00      0.71      0.83         7\n",
      "         302       0.00      0.00      0.00         8\n",
      "         303       1.00      0.05      0.09        22\n",
      "         304       1.00      1.00      1.00         4\n",
      "         305       1.00      1.00      1.00         5\n",
      "         306       1.00      1.00      1.00         2\n",
      "         307       1.00      1.00      1.00         1\n",
      "         308       0.00      0.00      0.00         2\n",
      "         309       0.00      0.00      0.00         5\n",
      "         311       1.00      0.57      0.73         7\n",
      "         313       1.00      0.26      0.41        31\n",
      "         314       1.00      1.00      1.00         2\n",
      "         315       1.00      0.09      0.17        11\n",
      "         316       1.00      0.38      0.56        13\n",
      "         317       0.00      0.00      0.00         2\n",
      "         318       1.00      0.14      0.25        14\n",
      "         319       1.00      0.80      0.89         5\n",
      "         320       0.72      0.66      0.69       949\n",
      "         321       0.00      0.00      0.00         3\n",
      "         323       0.00      0.00      0.00         8\n",
      "         324       0.00      0.00      0.00        12\n",
      "         325       0.00      0.00      0.00        14\n",
      "         326       0.00      0.00      0.00         2\n",
      "         327       1.00      0.17      0.29         6\n",
      "         328       0.00      0.00      0.00         1\n",
      "         330       1.00      1.00      1.00         3\n",
      "         331       0.00      0.00      0.00         2\n",
      "         333       0.00      0.00      0.00         2\n",
      "         336       0.00      0.00      0.00         2\n",
      "         337       1.00      1.00      1.00         4\n",
      "         338       0.00      0.00      0.00         4\n",
      "         339       0.00      0.00      0.00        19\n",
      "         341       1.00      1.00      1.00         1\n",
      "         342       1.00      0.07      0.13        43\n",
      "         343       0.76      0.93      0.83      1370\n",
      "         344       0.00      0.00      0.00         2\n",
      "         345       1.00      1.00      1.00        28\n",
      "         346       0.96      0.98      0.97       451\n",
      "         347       0.00      0.00      0.00         9\n",
      "         348       1.00      0.92      0.96       169\n",
      "         349       1.00      0.83      0.91       105\n",
      "         350       0.93      0.97      0.95      1566\n",
      "         352       1.00      0.04      0.07        26\n",
      "         353       0.93      0.93      0.93       254\n",
      "         354       0.00      0.00      0.00         6\n",
      "         355       1.00      1.00      1.00         6\n",
      "         356       0.00      0.00      0.00        10\n",
      "         357       0.00      0.00      0.00         3\n",
      "         358       0.00      0.00      0.00         1\n",
      "         359       0.71      0.84      0.77       541\n",
      "         360       1.00      1.00      1.00         1\n",
      "         361       0.00      0.00      0.00         1\n",
      "         362       1.00      1.00      1.00         1\n",
      "         363       0.00      0.00      0.00         2\n",
      "         365       0.00      0.00      0.00         3\n",
      "         367       0.00      0.00      0.00         3\n",
      "         368       1.00      1.00      1.00         4\n",
      "         369       1.00      0.11      0.20        55\n",
      "         370       0.00      0.00      0.00         2\n",
      "         371       1.00      1.00      1.00        30\n",
      "         373       1.00      1.00      1.00        11\n",
      "         374       0.00      0.00      0.00        39\n",
      "         375       0.00      0.00      0.00         3\n",
      "         376       1.00      1.00      1.00         4\n",
      "         377       0.00      0.00      0.00         4\n",
      "         378       1.00      1.00      1.00         1\n",
      "         379       1.00      0.43      0.60        14\n",
      "         380       1.00      0.30      0.46        10\n",
      "         381       0.78      0.92      0.85      1299\n",
      "         382       0.00      0.00      0.00         4\n",
      "         383       1.00      0.94      0.97        18\n",
      "         384       1.00      0.80      0.89        15\n",
      "         385       0.00      0.00      0.00         1\n",
      "         387       1.00      1.00      1.00        14\n",
      "         388       1.00      0.38      0.55        29\n",
      "         389       1.00      0.29      0.45        17\n",
      "         390       0.83      0.96      0.89        72\n",
      "         391       1.00      0.71      0.83        14\n",
      "         392       0.00      0.00      0.00         3\n",
      "         393       0.96      0.82      0.88       248\n",
      "         394       1.00      1.00      1.00         2\n",
      "         395       0.87      0.95      0.91       851\n",
      "         396       0.00      0.00      0.00        11\n",
      "         397       1.00      1.00      1.00        15\n",
      "         398       1.00      1.00      1.00        40\n",
      "         399       0.79      0.94      0.86       962\n",
      "         400       0.96      0.99      0.97       516\n",
      "         401       1.00      1.00      1.00        20\n",
      "         402       1.00      0.90      0.95        10\n",
      "         403       1.00      1.00      1.00         4\n",
      "         404       0.00      0.00      0.00         5\n",
      "         406       0.00      0.00      0.00         2\n",
      "         407       0.99      0.92      0.95       200\n",
      "         408       1.00      1.00      1.00        10\n",
      "         409       0.70      0.86      0.77       358\n",
      "         411       0.00      0.00      0.00         1\n",
      "         412       1.00      0.36      0.53        67\n",
      "         413       1.00      1.00      1.00         1\n",
      "         414       1.00      1.00      1.00         8\n",
      "         415       0.00      0.00      0.00         6\n",
      "         417       1.00      1.00      1.00        10\n",
      "         418       0.00      0.00      0.00         1\n",
      "         419       0.00      0.00      0.00         6\n",
      "         420       0.00      0.00      0.00         5\n",
      "         421       1.00      0.33      0.50         3\n",
      "         422       0.00      0.00      0.00         3\n",
      "         423       1.00      0.56      0.71         9\n",
      "         424       1.00      1.00      1.00         7\n",
      "         425       0.97      1.00      0.99        37\n",
      "         426       1.00      0.33      0.49       104\n",
      "         427       1.00      1.00      1.00        10\n",
      "         429       0.00      0.00      0.00         1\n",
      "         430       0.00      0.00      0.00         1\n",
      "         431       1.00      0.93      0.96        55\n",
      "         432       1.00      1.00      1.00         1\n",
      "         433       1.00      0.94      0.97        88\n",
      "         434       0.00      0.00      0.00         3\n",
      "         435       0.00      0.00      0.00        18\n",
      "         436       1.00      1.00      1.00        38\n",
      "         437       0.00      0.00      0.00        11\n",
      "         438       1.00      1.00      1.00         1\n",
      "         439       1.00      1.00      1.00        23\n",
      "         440       1.00      0.08      0.14        52\n",
      "         441       0.99      1.00      0.99        92\n",
      "         442       0.00      0.00      0.00         2\n",
      "         443       0.00      0.00      0.00         2\n",
      "         444       0.00      0.00      0.00         1\n",
      "         445       0.00      0.00      0.00         2\n",
      "         446       1.00      1.00      1.00         3\n",
      "         447       1.00      1.00      1.00         3\n",
      "         448       0.00      0.00      0.00         1\n",
      "         449       0.00      0.00      0.00         1\n",
      "         450       1.00      1.00      1.00         1\n",
      "         451       0.00      0.00      0.00         1\n",
      "         452       1.00      1.00      1.00         4\n",
      "         453       0.00      0.00      0.00         2\n",
      "         454       1.00      0.80      0.89        49\n",
      "         455       1.00      0.72      0.84        18\n",
      "         456       0.00      0.00      0.00        20\n",
      "         457       0.00      0.00      0.00         1\n",
      "         458       1.00      0.50      0.67         4\n",
      "         459       1.00      1.00      1.00        47\n",
      "         460       0.76      0.76      0.76       373\n",
      "         461       0.00      0.00      0.00         2\n",
      "         462       1.00      1.00      1.00        24\n",
      "         463       0.00      0.00      0.00         3\n",
      "         464       0.00      0.00      0.00         1\n",
      "         465       1.00      0.71      0.83         7\n",
      "         466       0.00      0.00      0.00         6\n",
      "         467       1.00      0.86      0.93       231\n",
      "         468       0.00      0.00      0.00         3\n",
      "         470       0.00      0.00      0.00         1\n",
      "         472       0.00      0.00      0.00         2\n",
      "         473       1.00      0.04      0.08        23\n",
      "         474       1.00      1.00      1.00         2\n",
      "         475       1.00      0.14      0.25         7\n",
      "         476       1.00      1.00      1.00         3\n",
      "         477       1.00      0.36      0.53        11\n",
      "         478       1.00      0.53      0.69        83\n",
      "         479       1.00      1.00      1.00       256\n",
      "         480       0.74      0.81      0.77      1065\n",
      "\n",
      "    accuracy                           0.87     32851\n",
      "   macro avg       0.65      0.54      0.57     32851\n",
      "weighted avg       0.87      0.87      0.86     32851\n",
      "\n"
     ]
    },
    {
     "name": "stderr",
     "output_type": "stream",
     "text": [
      "C:\\Users\\alice\\AppData\\Roaming\\Python\\Python312\\site-packages\\sklearn\\metrics\\_classification.py:1509: UndefinedMetricWarning: Precision is ill-defined and being set to 0.0 in labels with no predicted samples. Use `zero_division` parameter to control this behavior.\n",
      "  _warn_prf(average, modifier, f\"{metric.capitalize()} is\", len(result))\n",
      "C:\\Users\\alice\\AppData\\Roaming\\Python\\Python312\\site-packages\\sklearn\\metrics\\_classification.py:1509: UndefinedMetricWarning: Precision is ill-defined and being set to 0.0 in labels with no predicted samples. Use `zero_division` parameter to control this behavior.\n",
      "  _warn_prf(average, modifier, f\"{metric.capitalize()} is\", len(result))\n",
      "C:\\Users\\alice\\AppData\\Roaming\\Python\\Python312\\site-packages\\sklearn\\metrics\\_classification.py:1509: UndefinedMetricWarning: Precision is ill-defined and being set to 0.0 in labels with no predicted samples. Use `zero_division` parameter to control this behavior.\n",
      "  _warn_prf(average, modifier, f\"{metric.capitalize()} is\", len(result))\n"
     ]
    }
   ],
   "source": [
    "from sklearn.naive_bayes import MultinomialNB\n",
    "from sklearn.feature_extraction.text import CountVectorizer\n",
    "from sklearn.pipeline import make_pipeline\n",
    "from sklearn.metrics import accuracy_score,classification_report\n",
    "\n",
    "model = make_pipeline(CountVectorizer(), MultinomialNB()) #CountVectorizer for Bag of Words\n",
    "model.fit(X_train, y_train)\n",
    "y_pred = model.predict(X_test)\n",
    "accuracy = accuracy_score(y_test, y_pred)\n",
    "print(f\"MultinomialNB with Bag of Words accuracy: {accuracy:.3f}\")\n",
    "# Print classification report\n",
    "print(\"Classification Report:\\n\", classification_report(y_test, y_pred))"
   ]
  },
  {
   "cell_type": "markdown",
   "metadata": {},
   "source": [
    "### Cross-validation"
   ]
  },
  {
   "cell_type": "code",
   "execution_count": 120,
   "metadata": {},
   "outputs": [
    {
     "name": "stderr",
     "output_type": "stream",
     "text": [
      "C:\\Users\\alice\\AppData\\Roaming\\Python\\Python312\\site-packages\\sklearn\\model_selection\\_split.py:737: UserWarning: The least populated class in y has only 1 members, which is less than n_splits=3.\n",
      "  warnings.warn(\n"
     ]
    },
    {
     "name": "stdout",
     "output_type": "stream",
     "text": [
      "Cross-Validation Scores:[0.86287259 0.86126281 0.86396595]\n",
      "Mean Accuracy: 0.86\n"
     ]
    }
   ],
   "source": [
    "from sklearn.model_selection import cross_val_score\n",
    "from sklearn.model_selection import StratifiedKFold\n",
    "\n",
    "cv_scores = cross_val_score(model, X, y_encoded, cv=StratifiedKFold(n_splits=3, shuffle=True), scoring='accuracy')\n",
    "\n",
    "print(f\"Cross-Validation Scores:{cv_scores}\")\n",
    "print(f\"Mean Accuracy: {np.mean(cv_scores):.2f}\")"
   ]
  },
  {
   "cell_type": "markdown",
   "metadata": {},
   "source": [
    "### Fine-tuning"
   ]
  },
  {
   "cell_type": "code",
   "execution_count": 121,
   "metadata": {},
   "outputs": [
    {
     "name": "stdout",
     "output_type": "stream",
     "text": [
      "Fitting 5 folds for each of 5 candidates, totalling 25 fits\n"
     ]
    },
    {
     "name": "stderr",
     "output_type": "stream",
     "text": [
      "C:\\Users\\alice\\AppData\\Roaming\\Python\\Python312\\site-packages\\sklearn\\model_selection\\_split.py:737: UserWarning: The least populated class in y has only 1 members, which is less than n_splits=5.\n",
      "  warnings.warn(\n"
     ]
    },
    {
     "data": {
      "text/html": [
       "<style>#sk-container-id-1 {\n",
       "  /* Definition of color scheme common for light and dark mode */\n",
       "  --sklearn-color-text: black;\n",
       "  --sklearn-color-line: gray;\n",
       "  /* Definition of color scheme for unfitted estimators */\n",
       "  --sklearn-color-unfitted-level-0: #fff5e6;\n",
       "  --sklearn-color-unfitted-level-1: #f6e4d2;\n",
       "  --sklearn-color-unfitted-level-2: #ffe0b3;\n",
       "  --sklearn-color-unfitted-level-3: chocolate;\n",
       "  /* Definition of color scheme for fitted estimators */\n",
       "  --sklearn-color-fitted-level-0: #f0f8ff;\n",
       "  --sklearn-color-fitted-level-1: #d4ebff;\n",
       "  --sklearn-color-fitted-level-2: #b3dbfd;\n",
       "  --sklearn-color-fitted-level-3: cornflowerblue;\n",
       "\n",
       "  /* Specific color for light theme */\n",
       "  --sklearn-color-text-on-default-background: var(--sg-text-color, var(--theme-code-foreground, var(--jp-content-font-color1, black)));\n",
       "  --sklearn-color-background: var(--sg-background-color, var(--theme-background, var(--jp-layout-color0, white)));\n",
       "  --sklearn-color-border-box: var(--sg-text-color, var(--theme-code-foreground, var(--jp-content-font-color1, black)));\n",
       "  --sklearn-color-icon: #696969;\n",
       "\n",
       "  @media (prefers-color-scheme: dark) {\n",
       "    /* Redefinition of color scheme for dark theme */\n",
       "    --sklearn-color-text-on-default-background: var(--sg-text-color, var(--theme-code-foreground, var(--jp-content-font-color1, white)));\n",
       "    --sklearn-color-background: var(--sg-background-color, var(--theme-background, var(--jp-layout-color0, #111)));\n",
       "    --sklearn-color-border-box: var(--sg-text-color, var(--theme-code-foreground, var(--jp-content-font-color1, white)));\n",
       "    --sklearn-color-icon: #878787;\n",
       "  }\n",
       "}\n",
       "\n",
       "#sk-container-id-1 {\n",
       "  color: var(--sklearn-color-text);\n",
       "}\n",
       "\n",
       "#sk-container-id-1 pre {\n",
       "  padding: 0;\n",
       "}\n",
       "\n",
       "#sk-container-id-1 input.sk-hidden--visually {\n",
       "  border: 0;\n",
       "  clip: rect(1px 1px 1px 1px);\n",
       "  clip: rect(1px, 1px, 1px, 1px);\n",
       "  height: 1px;\n",
       "  margin: -1px;\n",
       "  overflow: hidden;\n",
       "  padding: 0;\n",
       "  position: absolute;\n",
       "  width: 1px;\n",
       "}\n",
       "\n",
       "#sk-container-id-1 div.sk-dashed-wrapped {\n",
       "  border: 1px dashed var(--sklearn-color-line);\n",
       "  margin: 0 0.4em 0.5em 0.4em;\n",
       "  box-sizing: border-box;\n",
       "  padding-bottom: 0.4em;\n",
       "  background-color: var(--sklearn-color-background);\n",
       "}\n",
       "\n",
       "#sk-container-id-1 div.sk-container {\n",
       "  /* jupyter's `normalize.less` sets `[hidden] { display: none; }`\n",
       "     but bootstrap.min.css set `[hidden] { display: none !important; }`\n",
       "     so we also need the `!important` here to be able to override the\n",
       "     default hidden behavior on the sphinx rendered scikit-learn.org.\n",
       "     See: https://github.com/scikit-learn/scikit-learn/issues/21755 */\n",
       "  display: inline-block !important;\n",
       "  position: relative;\n",
       "}\n",
       "\n",
       "#sk-container-id-1 div.sk-text-repr-fallback {\n",
       "  display: none;\n",
       "}\n",
       "\n",
       "div.sk-parallel-item,\n",
       "div.sk-serial,\n",
       "div.sk-item {\n",
       "  /* draw centered vertical line to link estimators */\n",
       "  background-image: linear-gradient(var(--sklearn-color-text-on-default-background), var(--sklearn-color-text-on-default-background));\n",
       "  background-size: 2px 100%;\n",
       "  background-repeat: no-repeat;\n",
       "  background-position: center center;\n",
       "}\n",
       "\n",
       "/* Parallel-specific style estimator block */\n",
       "\n",
       "#sk-container-id-1 div.sk-parallel-item::after {\n",
       "  content: \"\";\n",
       "  width: 100%;\n",
       "  border-bottom: 2px solid var(--sklearn-color-text-on-default-background);\n",
       "  flex-grow: 1;\n",
       "}\n",
       "\n",
       "#sk-container-id-1 div.sk-parallel {\n",
       "  display: flex;\n",
       "  align-items: stretch;\n",
       "  justify-content: center;\n",
       "  background-color: var(--sklearn-color-background);\n",
       "  position: relative;\n",
       "}\n",
       "\n",
       "#sk-container-id-1 div.sk-parallel-item {\n",
       "  display: flex;\n",
       "  flex-direction: column;\n",
       "}\n",
       "\n",
       "#sk-container-id-1 div.sk-parallel-item:first-child::after {\n",
       "  align-self: flex-end;\n",
       "  width: 50%;\n",
       "}\n",
       "\n",
       "#sk-container-id-1 div.sk-parallel-item:last-child::after {\n",
       "  align-self: flex-start;\n",
       "  width: 50%;\n",
       "}\n",
       "\n",
       "#sk-container-id-1 div.sk-parallel-item:only-child::after {\n",
       "  width: 0;\n",
       "}\n",
       "\n",
       "/* Serial-specific style estimator block */\n",
       "\n",
       "#sk-container-id-1 div.sk-serial {\n",
       "  display: flex;\n",
       "  flex-direction: column;\n",
       "  align-items: center;\n",
       "  background-color: var(--sklearn-color-background);\n",
       "  padding-right: 1em;\n",
       "  padding-left: 1em;\n",
       "}\n",
       "\n",
       "\n",
       "/* Toggleable style: style used for estimator/Pipeline/ColumnTransformer box that is\n",
       "clickable and can be expanded/collapsed.\n",
       "- Pipeline and ColumnTransformer use this feature and define the default style\n",
       "- Estimators will overwrite some part of the style using the `sk-estimator` class\n",
       "*/\n",
       "\n",
       "/* Pipeline and ColumnTransformer style (default) */\n",
       "\n",
       "#sk-container-id-1 div.sk-toggleable {\n",
       "  /* Default theme specific background. It is overwritten whether we have a\n",
       "  specific estimator or a Pipeline/ColumnTransformer */\n",
       "  background-color: var(--sklearn-color-background);\n",
       "}\n",
       "\n",
       "/* Toggleable label */\n",
       "#sk-container-id-1 label.sk-toggleable__label {\n",
       "  cursor: pointer;\n",
       "  display: block;\n",
       "  width: 100%;\n",
       "  margin-bottom: 0;\n",
       "  padding: 0.5em;\n",
       "  box-sizing: border-box;\n",
       "  text-align: center;\n",
       "}\n",
       "\n",
       "#sk-container-id-1 label.sk-toggleable__label-arrow:before {\n",
       "  /* Arrow on the left of the label */\n",
       "  content: \"▸\";\n",
       "  float: left;\n",
       "  margin-right: 0.25em;\n",
       "  color: var(--sklearn-color-icon);\n",
       "}\n",
       "\n",
       "#sk-container-id-1 label.sk-toggleable__label-arrow:hover:before {\n",
       "  color: var(--sklearn-color-text);\n",
       "}\n",
       "\n",
       "/* Toggleable content - dropdown */\n",
       "\n",
       "#sk-container-id-1 div.sk-toggleable__content {\n",
       "  max-height: 0;\n",
       "  max-width: 0;\n",
       "  overflow: hidden;\n",
       "  text-align: left;\n",
       "  /* unfitted */\n",
       "  background-color: var(--sklearn-color-unfitted-level-0);\n",
       "}\n",
       "\n",
       "#sk-container-id-1 div.sk-toggleable__content.fitted {\n",
       "  /* fitted */\n",
       "  background-color: var(--sklearn-color-fitted-level-0);\n",
       "}\n",
       "\n",
       "#sk-container-id-1 div.sk-toggleable__content pre {\n",
       "  margin: 0.2em;\n",
       "  border-radius: 0.25em;\n",
       "  color: var(--sklearn-color-text);\n",
       "  /* unfitted */\n",
       "  background-color: var(--sklearn-color-unfitted-level-0);\n",
       "}\n",
       "\n",
       "#sk-container-id-1 div.sk-toggleable__content.fitted pre {\n",
       "  /* unfitted */\n",
       "  background-color: var(--sklearn-color-fitted-level-0);\n",
       "}\n",
       "\n",
       "#sk-container-id-1 input.sk-toggleable__control:checked~div.sk-toggleable__content {\n",
       "  /* Expand drop-down */\n",
       "  max-height: 200px;\n",
       "  max-width: 100%;\n",
       "  overflow: auto;\n",
       "}\n",
       "\n",
       "#sk-container-id-1 input.sk-toggleable__control:checked~label.sk-toggleable__label-arrow:before {\n",
       "  content: \"▾\";\n",
       "}\n",
       "\n",
       "/* Pipeline/ColumnTransformer-specific style */\n",
       "\n",
       "#sk-container-id-1 div.sk-label input.sk-toggleable__control:checked~label.sk-toggleable__label {\n",
       "  color: var(--sklearn-color-text);\n",
       "  background-color: var(--sklearn-color-unfitted-level-2);\n",
       "}\n",
       "\n",
       "#sk-container-id-1 div.sk-label.fitted input.sk-toggleable__control:checked~label.sk-toggleable__label {\n",
       "  background-color: var(--sklearn-color-fitted-level-2);\n",
       "}\n",
       "\n",
       "/* Estimator-specific style */\n",
       "\n",
       "/* Colorize estimator box */\n",
       "#sk-container-id-1 div.sk-estimator input.sk-toggleable__control:checked~label.sk-toggleable__label {\n",
       "  /* unfitted */\n",
       "  background-color: var(--sklearn-color-unfitted-level-2);\n",
       "}\n",
       "\n",
       "#sk-container-id-1 div.sk-estimator.fitted input.sk-toggleable__control:checked~label.sk-toggleable__label {\n",
       "  /* fitted */\n",
       "  background-color: var(--sklearn-color-fitted-level-2);\n",
       "}\n",
       "\n",
       "#sk-container-id-1 div.sk-label label.sk-toggleable__label,\n",
       "#sk-container-id-1 div.sk-label label {\n",
       "  /* The background is the default theme color */\n",
       "  color: var(--sklearn-color-text-on-default-background);\n",
       "}\n",
       "\n",
       "/* On hover, darken the color of the background */\n",
       "#sk-container-id-1 div.sk-label:hover label.sk-toggleable__label {\n",
       "  color: var(--sklearn-color-text);\n",
       "  background-color: var(--sklearn-color-unfitted-level-2);\n",
       "}\n",
       "\n",
       "/* Label box, darken color on hover, fitted */\n",
       "#sk-container-id-1 div.sk-label.fitted:hover label.sk-toggleable__label.fitted {\n",
       "  color: var(--sklearn-color-text);\n",
       "  background-color: var(--sklearn-color-fitted-level-2);\n",
       "}\n",
       "\n",
       "/* Estimator label */\n",
       "\n",
       "#sk-container-id-1 div.sk-label label {\n",
       "  font-family: monospace;\n",
       "  font-weight: bold;\n",
       "  display: inline-block;\n",
       "  line-height: 1.2em;\n",
       "}\n",
       "\n",
       "#sk-container-id-1 div.sk-label-container {\n",
       "  text-align: center;\n",
       "}\n",
       "\n",
       "/* Estimator-specific */\n",
       "#sk-container-id-1 div.sk-estimator {\n",
       "  font-family: monospace;\n",
       "  border: 1px dotted var(--sklearn-color-border-box);\n",
       "  border-radius: 0.25em;\n",
       "  box-sizing: border-box;\n",
       "  margin-bottom: 0.5em;\n",
       "  /* unfitted */\n",
       "  background-color: var(--sklearn-color-unfitted-level-0);\n",
       "}\n",
       "\n",
       "#sk-container-id-1 div.sk-estimator.fitted {\n",
       "  /* fitted */\n",
       "  background-color: var(--sklearn-color-fitted-level-0);\n",
       "}\n",
       "\n",
       "/* on hover */\n",
       "#sk-container-id-1 div.sk-estimator:hover {\n",
       "  /* unfitted */\n",
       "  background-color: var(--sklearn-color-unfitted-level-2);\n",
       "}\n",
       "\n",
       "#sk-container-id-1 div.sk-estimator.fitted:hover {\n",
       "  /* fitted */\n",
       "  background-color: var(--sklearn-color-fitted-level-2);\n",
       "}\n",
       "\n",
       "/* Specification for estimator info (e.g. \"i\" and \"?\") */\n",
       "\n",
       "/* Common style for \"i\" and \"?\" */\n",
       "\n",
       ".sk-estimator-doc-link,\n",
       "a:link.sk-estimator-doc-link,\n",
       "a:visited.sk-estimator-doc-link {\n",
       "  float: right;\n",
       "  font-size: smaller;\n",
       "  line-height: 1em;\n",
       "  font-family: monospace;\n",
       "  background-color: var(--sklearn-color-background);\n",
       "  border-radius: 1em;\n",
       "  height: 1em;\n",
       "  width: 1em;\n",
       "  text-decoration: none !important;\n",
       "  margin-left: 1ex;\n",
       "  /* unfitted */\n",
       "  border: var(--sklearn-color-unfitted-level-1) 1pt solid;\n",
       "  color: var(--sklearn-color-unfitted-level-1);\n",
       "}\n",
       "\n",
       ".sk-estimator-doc-link.fitted,\n",
       "a:link.sk-estimator-doc-link.fitted,\n",
       "a:visited.sk-estimator-doc-link.fitted {\n",
       "  /* fitted */\n",
       "  border: var(--sklearn-color-fitted-level-1) 1pt solid;\n",
       "  color: var(--sklearn-color-fitted-level-1);\n",
       "}\n",
       "\n",
       "/* On hover */\n",
       "div.sk-estimator:hover .sk-estimator-doc-link:hover,\n",
       ".sk-estimator-doc-link:hover,\n",
       "div.sk-label-container:hover .sk-estimator-doc-link:hover,\n",
       ".sk-estimator-doc-link:hover {\n",
       "  /* unfitted */\n",
       "  background-color: var(--sklearn-color-unfitted-level-3);\n",
       "  color: var(--sklearn-color-background);\n",
       "  text-decoration: none;\n",
       "}\n",
       "\n",
       "div.sk-estimator.fitted:hover .sk-estimator-doc-link.fitted:hover,\n",
       ".sk-estimator-doc-link.fitted:hover,\n",
       "div.sk-label-container:hover .sk-estimator-doc-link.fitted:hover,\n",
       ".sk-estimator-doc-link.fitted:hover {\n",
       "  /* fitted */\n",
       "  background-color: var(--sklearn-color-fitted-level-3);\n",
       "  color: var(--sklearn-color-background);\n",
       "  text-decoration: none;\n",
       "}\n",
       "\n",
       "/* Span, style for the box shown on hovering the info icon */\n",
       ".sk-estimator-doc-link span {\n",
       "  display: none;\n",
       "  z-index: 9999;\n",
       "  position: relative;\n",
       "  font-weight: normal;\n",
       "  right: .2ex;\n",
       "  padding: .5ex;\n",
       "  margin: .5ex;\n",
       "  width: min-content;\n",
       "  min-width: 20ex;\n",
       "  max-width: 50ex;\n",
       "  color: var(--sklearn-color-text);\n",
       "  box-shadow: 2pt 2pt 4pt #999;\n",
       "  /* unfitted */\n",
       "  background: var(--sklearn-color-unfitted-level-0);\n",
       "  border: .5pt solid var(--sklearn-color-unfitted-level-3);\n",
       "}\n",
       "\n",
       ".sk-estimator-doc-link.fitted span {\n",
       "  /* fitted */\n",
       "  background: var(--sklearn-color-fitted-level-0);\n",
       "  border: var(--sklearn-color-fitted-level-3);\n",
       "}\n",
       "\n",
       ".sk-estimator-doc-link:hover span {\n",
       "  display: block;\n",
       "}\n",
       "\n",
       "/* \"?\"-specific style due to the `<a>` HTML tag */\n",
       "\n",
       "#sk-container-id-1 a.estimator_doc_link {\n",
       "  float: right;\n",
       "  font-size: 1rem;\n",
       "  line-height: 1em;\n",
       "  font-family: monospace;\n",
       "  background-color: var(--sklearn-color-background);\n",
       "  border-radius: 1rem;\n",
       "  height: 1rem;\n",
       "  width: 1rem;\n",
       "  text-decoration: none;\n",
       "  /* unfitted */\n",
       "  color: var(--sklearn-color-unfitted-level-1);\n",
       "  border: var(--sklearn-color-unfitted-level-1) 1pt solid;\n",
       "}\n",
       "\n",
       "#sk-container-id-1 a.estimator_doc_link.fitted {\n",
       "  /* fitted */\n",
       "  border: var(--sklearn-color-fitted-level-1) 1pt solid;\n",
       "  color: var(--sklearn-color-fitted-level-1);\n",
       "}\n",
       "\n",
       "/* On hover */\n",
       "#sk-container-id-1 a.estimator_doc_link:hover {\n",
       "  /* unfitted */\n",
       "  background-color: var(--sklearn-color-unfitted-level-3);\n",
       "  color: var(--sklearn-color-background);\n",
       "  text-decoration: none;\n",
       "}\n",
       "\n",
       "#sk-container-id-1 a.estimator_doc_link.fitted:hover {\n",
       "  /* fitted */\n",
       "  background-color: var(--sklearn-color-fitted-level-3);\n",
       "}\n",
       "</style><div id=\"sk-container-id-1\" class=\"sk-top-container\"><div class=\"sk-text-repr-fallback\"><pre>RandomizedSearchCV(cv=StratifiedKFold(n_splits=5, random_state=42, shuffle=True),\n",
       "                   estimator=Pipeline(steps=[(&#x27;countvectorizer&#x27;,\n",
       "                                              CountVectorizer()),\n",
       "                                             (&#x27;multinomialnb&#x27;,\n",
       "                                              MultinomialNB())]),\n",
       "                   n_iter=5, n_jobs=1,\n",
       "                   param_distributions={&#x27;countvectorizer__max_features&#x27;: [5000,\n",
       "                                                                          10000,\n",
       "                                                                          None],\n",
       "                                        &#x27;countvectorizer__ngram_range&#x27;: [(1, 1),\n",
       "                                                                         (1,\n",
       "                                                                          2)],\n",
       "                                        &#x27;multinomialnb__alpha&#x27;: &lt;scipy.stats._distn_infrastructure.rv_continuous_frozen object at 0x0000020EF00CEF60&gt;},\n",
       "                   scoring=&#x27;accuracy&#x27;, verbose=1)</pre><b>In a Jupyter environment, please rerun this cell to show the HTML representation or trust the notebook. <br />On GitHub, the HTML representation is unable to render, please try loading this page with nbviewer.org.</b></div><div class=\"sk-container\" hidden><div class=\"sk-item sk-dashed-wrapped\"><div class=\"sk-label-container\"><div class=\"sk-label fitted sk-toggleable\"><input class=\"sk-toggleable__control sk-hidden--visually\" id=\"sk-estimator-id-1\" type=\"checkbox\" ><label for=\"sk-estimator-id-1\" class=\"sk-toggleable__label fitted sk-toggleable__label-arrow fitted\">&nbsp;&nbsp;RandomizedSearchCV<a class=\"sk-estimator-doc-link fitted\" rel=\"noreferrer\" target=\"_blank\" href=\"https://scikit-learn.org/1.4/modules/generated/sklearn.model_selection.RandomizedSearchCV.html\">?<span>Documentation for RandomizedSearchCV</span></a><span class=\"sk-estimator-doc-link fitted\">i<span>Fitted</span></span></label><div class=\"sk-toggleable__content fitted\"><pre>RandomizedSearchCV(cv=StratifiedKFold(n_splits=5, random_state=42, shuffle=True),\n",
       "                   estimator=Pipeline(steps=[(&#x27;countvectorizer&#x27;,\n",
       "                                              CountVectorizer()),\n",
       "                                             (&#x27;multinomialnb&#x27;,\n",
       "                                              MultinomialNB())]),\n",
       "                   n_iter=5, n_jobs=1,\n",
       "                   param_distributions={&#x27;countvectorizer__max_features&#x27;: [5000,\n",
       "                                                                          10000,\n",
       "                                                                          None],\n",
       "                                        &#x27;countvectorizer__ngram_range&#x27;: [(1, 1),\n",
       "                                                                         (1,\n",
       "                                                                          2)],\n",
       "                                        &#x27;multinomialnb__alpha&#x27;: &lt;scipy.stats._distn_infrastructure.rv_continuous_frozen object at 0x0000020EF00CEF60&gt;},\n",
       "                   scoring=&#x27;accuracy&#x27;, verbose=1)</pre></div> </div></div><div class=\"sk-parallel\"><div class=\"sk-parallel-item\"><div class=\"sk-item\"><div class=\"sk-label-container\"><div class=\"sk-label fitted sk-toggleable\"><input class=\"sk-toggleable__control sk-hidden--visually\" id=\"sk-estimator-id-2\" type=\"checkbox\" ><label for=\"sk-estimator-id-2\" class=\"sk-toggleable__label fitted sk-toggleable__label-arrow fitted\">estimator: Pipeline</label><div class=\"sk-toggleable__content fitted\"><pre>Pipeline(steps=[(&#x27;countvectorizer&#x27;, CountVectorizer()),\n",
       "                (&#x27;multinomialnb&#x27;, MultinomialNB())])</pre></div> </div></div><div class=\"sk-serial\"><div class=\"sk-item\"><div class=\"sk-serial\"><div class=\"sk-item\"><div class=\"sk-estimator fitted sk-toggleable\"><input class=\"sk-toggleable__control sk-hidden--visually\" id=\"sk-estimator-id-3\" type=\"checkbox\" ><label for=\"sk-estimator-id-3\" class=\"sk-toggleable__label fitted sk-toggleable__label-arrow fitted\">&nbsp;CountVectorizer<a class=\"sk-estimator-doc-link fitted\" rel=\"noreferrer\" target=\"_blank\" href=\"https://scikit-learn.org/1.4/modules/generated/sklearn.feature_extraction.text.CountVectorizer.html\">?<span>Documentation for CountVectorizer</span></a></label><div class=\"sk-toggleable__content fitted\"><pre>CountVectorizer()</pre></div> </div></div><div class=\"sk-item\"><div class=\"sk-estimator fitted sk-toggleable\"><input class=\"sk-toggleable__control sk-hidden--visually\" id=\"sk-estimator-id-4\" type=\"checkbox\" ><label for=\"sk-estimator-id-4\" class=\"sk-toggleable__label fitted sk-toggleable__label-arrow fitted\">&nbsp;MultinomialNB<a class=\"sk-estimator-doc-link fitted\" rel=\"noreferrer\" target=\"_blank\" href=\"https://scikit-learn.org/1.4/modules/generated/sklearn.naive_bayes.MultinomialNB.html\">?<span>Documentation for MultinomialNB</span></a></label><div class=\"sk-toggleable__content fitted\"><pre>MultinomialNB()</pre></div> </div></div></div></div></div></div></div></div></div></div></div>"
      ],
      "text/plain": [
       "RandomizedSearchCV(cv=StratifiedKFold(n_splits=5, random_state=42, shuffle=True),\n",
       "                   estimator=Pipeline(steps=[('countvectorizer',\n",
       "                                              CountVectorizer()),\n",
       "                                             ('multinomialnb',\n",
       "                                              MultinomialNB())]),\n",
       "                   n_iter=5, n_jobs=1,\n",
       "                   param_distributions={'countvectorizer__max_features': [5000,\n",
       "                                                                          10000,\n",
       "                                                                          None],\n",
       "                                        'countvectorizer__ngram_range': [(1, 1),\n",
       "                                                                         (1,\n",
       "                                                                          2)],\n",
       "                                        'multinomialnb__alpha': <scipy.stats._distn_infrastructure.rv_continuous_frozen object at 0x0000020EF00CEF60>},\n",
       "                   scoring='accuracy', verbose=1)"
      ]
     },
     "execution_count": 121,
     "metadata": {},
     "output_type": "execute_result"
    }
   ],
   "source": [
    "from sklearn.model_selection import RandomizedSearchCV\n",
    "from scipy.stats import uniform, randint\n",
    "\n",
    "param_dist = {\n",
    "    'countvectorizer__max_features': [5000, 10000, None],\n",
    "    'countvectorizer__ngram_range': [(1, 1), (1, 2)],\n",
    "    'multinomialnb__alpha': uniform(0.1, 2.0)  # Example range for alpha\n",
    "}\n",
    "cv = StratifiedKFold(n_splits=5, shuffle=True, random_state=42)\n",
    "\n",
    "random_search = RandomizedSearchCV(model, param_distributions=param_dist, n_iter=5, scoring='accuracy', cv=cv, verbose=1, n_jobs=1)\n",
    "random_search.fit(X, y_encoded)"
   ]
  },
  {
   "cell_type": "code",
   "execution_count": 54,
   "metadata": {},
   "outputs": [
    {
     "name": "stdout",
     "output_type": "stream",
     "text": [
      "Best Parameters: {'countvectorizer__max_features': 10000, 'countvectorizer__ngram_range': (1, 2), 'multinomialnb__alpha': 0.13200731150436554}\n"
     ]
    }
   ],
   "source": [
    "best_params = random_search.best_params_\n",
    "print(\"Best Parameters:\", best_params)"
   ]
  },
  {
   "cell_type": "code",
   "execution_count": 55,
   "metadata": {},
   "outputs": [
    {
     "name": "stdout",
     "output_type": "stream",
     "text": [
      "Best Model Accuracy: 0.893\n"
     ]
    }
   ],
   "source": [
    "best_model = random_search.best_estimator_\n",
    "best_model.fit(X_train, y_train)\n",
    "y_pred_best = best_model.predict(X_test)\n",
    "accuracy = accuracy_score(y_test, y_pred_best)\n",
    "print(f\"Best Model Accuracy: {accuracy:.3f}\")"
   ]
  },
  {
   "cell_type": "code",
   "execution_count": 57,
   "metadata": {},
   "outputs": [],
   "source": [
    "#Error Analysis\n",
    "# Inverse transform the predicted labels to get the original class labels\n",
    "predicted_labels_original = lb_encoder.inverse_transform(y_pred_best)"
   ]
  },
  {
   "cell_type": "code",
   "execution_count": 58,
   "metadata": {},
   "outputs": [
    {
     "name": "stdout",
     "output_type": "stream",
     "text": [
      "Correct Predictions: 35683, Wrong Predictions: 4259\n"
     ]
    }
   ],
   "source": [
    "correct_predictions = sum(y_test == y_pred_best)\n",
    "wrong_predictions = len(y_test) - correct_predictions\n",
    "print(f'Correct Predictions: {correct_predictions}, Wrong Predictions: {wrong_predictions}')"
   ]
  },
  {
   "cell_type": "code",
   "execution_count": 59,
   "metadata": {},
   "outputs": [
    {
     "data": {
      "image/png": "[encoded data removed]",
      "text/plain": [
       "<Figure size 640x480 with 1 Axes>"
      ]
     },
     "metadata": {},
     "output_type": "display_data"
    }
   ],
   "source": [
    "labels = ['Correct Predictions', 'Wrong Predictions']\n",
    "values = [correct_predictions, wrong_predictions]\n",
    "\n",
    "plt.bar(labels, values, color=['green', 'red'])\n",
    "plt.title('Correct vs Wrong Predictions')\n",
    "plt.xlabel('Prediction Outcome')\n",
    "plt.ylabel('Number of Samples')\n",
    "plt.show()"
   ]
  },
  {
   "cell_type": "code",
   "execution_count": 60,
   "metadata": {},
   "outputs": [
    {
     "data": {
      "text/html": [
       "<div>\n",
       "<style scoped>\n",
       "    .dataframe tbody tr th:only-of-type {\n",
       "        vertical-align: middle;\n",
       "    }\n",
       "\n",
       "    .dataframe tbody tr th {\n",
       "        vertical-align: top;\n",
       "    }\n",
       "\n",
       "    .dataframe thead th {\n",
       "        text-align: right;\n",
       "    }\n",
       "</style>\n",
       "<table border=\"1\" class=\"dataframe\">\n",
       "  <thead>\n",
       "    <tr style=\"text-align: right;\">\n",
       "      <th></th>\n",
       "      <th>Content</th>\n",
       "      <th>Predicted_Labels</th>\n",
       "      <th>Actual_Labels</th>\n",
       "    </tr>\n",
       "  </thead>\n",
       "  <tbody>\n",
       "    <tr>\n",
       "      <th>23219</th>\n",
       "      <td>congress sandeep dikshit monday asked aimim ch...</td>\n",
       "      <td>['politics']</td>\n",
       "      <td>['politics']</td>\n",
       "    </tr>\n",
       "    <tr>\n",
       "      <th>48597</th>\n",
       "      <td>square ceo alyssa henry stepping nine years pa...</td>\n",
       "      <td>['business', 'startup']</td>\n",
       "      <td>['business', 'startup']</td>\n",
       "    </tr>\n",
       "    <tr>\n",
       "      <th>162019</th>\n",
       "      <td>every womans menstruation cycle reflects certa...</td>\n",
       "      <td>['Health___Fitness']</td>\n",
       "      <td>['Health___Fitness']</td>\n",
       "    </tr>\n",
       "    <tr>\n",
       "      <th>35753</th>\n",
       "      <td>jonty rhodes superman runout inzamamulhaq worl...</td>\n",
       "      <td>['sports', 'ODI_World_Cup_2023']</td>\n",
       "      <td>['sports', 'ODI_World_Cup_2023']</td>\n",
       "    </tr>\n",
       "    <tr>\n",
       "      <th>108844</th>\n",
       "      <td>cartrade technologies reported yoy surge profi...</td>\n",
       "      <td>['business', 'startup', 'technology']</td>\n",
       "      <td>['business', 'startup', 'technology']</td>\n",
       "    </tr>\n",
       "  </tbody>\n",
       "</table>\n",
       "</div>"
      ],
      "text/plain": [
       "                                                  Content  \\\n",
       "23219   congress sandeep dikshit monday asked aimim ch...   \n",
       "48597   square ceo alyssa henry stepping nine years pa...   \n",
       "162019  every womans menstruation cycle reflects certa...   \n",
       "35753   jonty rhodes superman runout inzamamulhaq worl...   \n",
       "108844  cartrade technologies reported yoy surge profi...   \n",
       "\n",
       "                             Predicted_Labels  \\\n",
       "23219                            ['politics']   \n",
       "48597                 ['business', 'startup']   \n",
       "162019                   ['Health___Fitness']   \n",
       "35753        ['sports', 'ODI_World_Cup_2023']   \n",
       "108844  ['business', 'startup', 'technology']   \n",
       "\n",
       "                                Actual_Labels  \n",
       "23219                            ['politics']  \n",
       "48597                 ['business', 'startup']  \n",
       "162019                   ['Health___Fitness']  \n",
       "35753        ['sports', 'ODI_World_Cup_2023']  \n",
       "108844  ['business', 'startup', 'technology']  "
      ]
     },
     "execution_count": 60,
     "metadata": {},
     "output_type": "execute_result"
    }
   ],
   "source": [
    "#final dataframe with text and predicted labels\n",
    "final_df = pd.DataFrame({'Content': X_test, 'Predicted_Labels': predicted_labels_original, 'Actual_Labels': lb_encoder.inverse_transform(y_test)})\n",
    "\n",
    "final_df.head()"
   ]
  },
  {
   "cell_type": "code",
   "execution_count": null,
   "metadata": {},
   "outputs": [],
   "source": []
  },
  {
   "cell_type": "code",
   "execution_count": null,
   "metadata": {},
   "outputs": [],
   "source": []
  },
  {
   "cell_type": "code",
   "execution_count": null,
   "metadata": {},
   "outputs": [],
   "source": []
  },
  {
   "cell_type": "code",
   "execution_count": null,
   "metadata": {},
   "outputs": [],
   "source": []
  },
  {
   "cell_type": "code",
   "execution_count": null,
   "metadata": {},
   "outputs": [],
   "source": []
  },
  {
   "cell_type": "code",
   "execution_count": null,
   "metadata": {},
   "outputs": [],
   "source": []
  },
  {
   "cell_type": "code",
   "execution_count": null,
   "metadata": {},
   "outputs": [],
   "source": []
  },
  {
   "cell_type": "code",
   "execution_count": null,
   "metadata": {},
   "outputs": [],
   "source": []
  },
  {
   "cell_type": "code",
   "execution_count": null,
   "metadata": {},
   "outputs": [],
   "source": []
  },
  {
   "cell_type": "code",
   "execution_count": null,
   "metadata": {},
   "outputs": [],
   "source": []
  }
 ],
 "metadata": {
  "kernelspec": {
   "display_name": "Python 3",
   "language": "python",
   "name": "python3"
  },
  "language_info": {
   "codemirror_mode": {
    "name": "ipython",
    "version": 3
   },
   "file_extension": ".py",
   "mimetype": "text/x-python",
   "name": "python",
   "nbconvert_exporter": "python",
   "pygments_lexer": "ipython3",
   "version": "3.12.2"
  }
 },
 "nbformat": 4,
 "nbformat_minor": 2
}
